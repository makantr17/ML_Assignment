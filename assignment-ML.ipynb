{
 "cells": [
  {
   "cell_type": "code",
   "execution_count": 414,
   "metadata": {},
   "outputs": [],
   "source": [
    "import numpy as np\n",
    "import pandas as pd"
   ]
  },
  {
   "cell_type": "code",
   "execution_count": 415,
   "metadata": {},
   "outputs": [],
   "source": [
    "df=pd.read_csv('Arrest_Data_from_2010_to_Present.csv')"
   ]
  },
  {
   "cell_type": "code",
   "execution_count": 416,
   "metadata": {},
   "outputs": [
    {
     "data": {
      "text/plain": [
       "(1227521, 17)"
      ]
     },
     "execution_count": 416,
     "metadata": {},
     "output_type": "execute_result"
    }
   ],
   "source": [
    "df.shape"
   ]
  },
  {
   "cell_type": "code",
   "execution_count": 417,
   "metadata": {},
   "outputs": [
    {
     "data": {
      "text/plain": [
       "Index(['Report ID', 'Arrest Date', 'Time', 'Area ID', 'Area Name',\n",
       "       'Reporting District', 'Age', 'Sex Code', 'Descent Code',\n",
       "       'Charge Group Code', 'Charge Group Description', 'Arrest Type Code',\n",
       "       'Charge', 'Charge Description', 'Address', 'Cross Street', 'Location'],\n",
       "      dtype='object')"
      ]
     },
     "execution_count": 417,
     "metadata": {},
     "output_type": "execute_result"
    }
   ],
   "source": [
    "df.columns"
   ]
  },
  {
   "cell_type": "code",
   "execution_count": 418,
   "metadata": {},
   "outputs": [
    {
     "name": "stdout",
     "output_type": "stream",
     "text": [
      "<class 'pandas.core.frame.DataFrame'>\n",
      "RangeIndex: 1227521 entries, 0 to 1227520\n",
      "Data columns (total 17 columns):\n",
      "Report ID                   1227521 non-null object\n",
      "Arrest Date                 1227517 non-null object\n",
      "Time                        1227322 non-null float64\n",
      "Area ID                     1227517 non-null float64\n",
      "Area Name                   1227517 non-null object\n",
      "Reporting District          1227517 non-null float64\n",
      "Age                         1227517 non-null float64\n",
      "Sex Code                    1227517 non-null object\n",
      "Descent Code                1227517 non-null object\n",
      "Charge Group Code           1139951 non-null float64\n",
      "Charge Group Description    1139515 non-null object\n",
      "Arrest Type Code            1227516 non-null object\n",
      "Charge                      1227516 non-null object\n",
      "Charge Description          1139987 non-null object\n",
      "Address                     1227516 non-null object\n",
      "Cross Street                707334 non-null object\n",
      "Location                    1227516 non-null object\n",
      "dtypes: float64(5), object(12)\n",
      "memory usage: 159.2+ MB\n"
     ]
    }
   ],
   "source": [
    "df.info()"
   ]
  },
  {
   "cell_type": "code",
   "execution_count": 419,
   "metadata": {},
   "outputs": [],
   "source": [
    "# drop all empty rows\n",
    "df=df.dropna(how='all')"
   ]
  },
  {
   "cell_type": "code",
   "execution_count": 420,
   "metadata": {},
   "outputs": [
    {
     "data": {
      "text/plain": [
       "0"
      ]
     },
     "execution_count": 420,
     "metadata": {},
     "output_type": "execute_result"
    }
   ],
   "source": [
    "df['Arrest Date']= df['Arrest Date'].fillna(df['Arrest Date'].min)\n",
    "df['Area Name']= df['Area Name'].fillna(df['Area Name'].min)\n",
    "df['Reporting District']= df['Reporting District'].fillna(df['Reporting District'].min)\n",
    "df['Charge Group Description']= df['Charge Group Description'].dropna()\n",
    "df['Time']= df['Time'].interpolate()\n",
    "df = df.dropna()\n",
    "df['Charge Group Description'].isnull().sum()"
   ]
  },
  {
   "cell_type": "code",
   "execution_count": 421,
   "metadata": {},
   "outputs": [
    {
     "data": {
      "text/plain": [
       "Report ID                   0\n",
       "Arrest Date                 0\n",
       "Time                        0\n",
       "Area ID                     0\n",
       "Area Name                   0\n",
       "Reporting District          0\n",
       "Age                         0\n",
       "Sex Code                    0\n",
       "Descent Code                0\n",
       "Charge Group Code           0\n",
       "Charge Group Description    0\n",
       "Arrest Type Code            0\n",
       "Charge                      0\n",
       "Charge Description          0\n",
       "Address                     0\n",
       "Cross Street                0\n",
       "Location                    0\n",
       "dtype: int64"
      ]
     },
     "execution_count": 421,
     "metadata": {},
     "output_type": "execute_result"
    }
   ],
   "source": [
    "df.isnull().sum()"
   ]
  },
  {
   "cell_type": "code",
   "execution_count": 422,
   "metadata": {},
   "outputs": [],
   "source": [
    "# select row based on method\n",
    "# rgx = r''\n",
    "# df_drop = df.loc[df['Report ID'].str.contains(rgx, na=False, regex=True, case=False)]\n",
    "# df = df[~df_drop]\n",
    "# df.drop(df[df['Age'] < 25].index, inplace = True) \n",
    "# drop method\n",
    "\n",
    "# df.drop(df[df['Report ID'].str.contains(rgx, na=False, regex=True, case=False)].index, inplace = True) \n",
    "# df.drop(df[df['Report ID'].isin(['  \"status\" : 500','  \"error\" : true','  \"message\" : \"Internal error\"', '}'])].index, inplace = True) "
   ]
  },
  {
   "cell_type": "code",
   "execution_count": 423,
   "metadata": {},
   "outputs": [],
   "source": [
    "df['Report ID'] = df['Report ID'].astype(str).astype(int)"
   ]
  },
  {
   "cell_type": "code",
   "execution_count": 424,
   "metadata": {},
   "outputs": [
    {
     "name": "stdout",
     "output_type": "stream",
     "text": [
      "<class 'pandas.core.frame.DataFrame'>\n",
      "Int64Index: 651555 entries, 0 to 1227515\n",
      "Data columns (total 17 columns):\n",
      "Report ID                   651555 non-null int32\n",
      "Arrest Date                 651555 non-null object\n",
      "Time                        651555 non-null float64\n",
      "Area ID                     651555 non-null float64\n",
      "Area Name                   651555 non-null object\n",
      "Reporting District          651555 non-null object\n",
      "Age                         651555 non-null float64\n",
      "Sex Code                    651555 non-null object\n",
      "Descent Code                651555 non-null object\n",
      "Charge Group Code           651555 non-null float64\n",
      "Charge Group Description    651555 non-null object\n",
      "Arrest Type Code            651555 non-null object\n",
      "Charge                      651555 non-null object\n",
      "Charge Description          651555 non-null object\n",
      "Address                     651555 non-null object\n",
      "Cross Street                651555 non-null object\n",
      "Location                    651555 non-null object\n",
      "dtypes: float64(4), int32(1), object(12)\n",
      "memory usage: 87.0+ MB\n"
     ]
    }
   ],
   "source": [
    "df.info()"
   ]
  },
  {
   "cell_type": "code",
   "execution_count": 425,
   "metadata": {},
   "outputs": [],
   "source": [
    "# convert date\n",
    "df['Arrest Date'] = pd.to_datetime(df['Arrest Date'])\n",
    "# df['Arrest Date'] = df['Arrest Date'].dt.strftime('%m.%d.%Y')"
   ]
  },
  {
   "cell_type": "code",
   "execution_count": 426,
   "metadata": {},
   "outputs": [],
   "source": [
    "# let fill the nan in string columns to ''\n",
    "# df['Charge Description'].fillna('', inplace=True)\n",
    "# df['Cross Street'].fillna('', inplace=True)\n",
    "# df['Charge Group Description'].fillna('', inplace=True)\n",
    "# df['Cross Street'].fillna('', inplace=True)\n",
    "# df['Time'].fillna(0.0, inplace=True)"
   ]
  },
  {
   "cell_type": "code",
   "execution_count": 427,
   "metadata": {},
   "outputs": [
    {
     "data": {
      "text/plain": [
       "Index(['Report ID', 'Arrest Date', 'Time', 'Area ID', 'Area Name',\n",
       "       'Reporting District', 'Age', 'Sex Code', 'Descent Code',\n",
       "       'Charge Group Code', 'Charge Group Description', 'Arrest Type Code',\n",
       "       'Charge', 'Charge Description', 'Address', 'Cross Street', 'Location'],\n",
       "      dtype='object')"
      ]
     },
     "execution_count": 427,
     "metadata": {},
     "output_type": "execute_result"
    }
   ],
   "source": [
    "df.columns"
   ]
  },
  {
   "cell_type": "code",
   "execution_count": 428,
   "metadata": {},
   "outputs": [],
   "source": [
    "# Let start answering question"
   ]
  },
  {
   "cell_type": "code",
   "execution_count": 429,
   "metadata": {},
   "outputs": [],
   "source": [
    "# Question 1: How many booking of arrestees were made in 2018"
   ]
  },
  {
   "cell_type": "code",
   "execution_count": 430,
   "metadata": {},
   "outputs": [
    {
     "name": "stdout",
     "output_type": "stream",
     "text": [
      "Number of Arresstes in 2018 is: 18442\n"
     ]
    }
   ],
   "source": [
    "Arrestes_in_2018 = df.loc[df['Arrest Date'].dt.year == 2018]\n",
    "print(\"Number of Arresstes in 2018 is:\", Arrestes_in_2018.shape[0])"
   ]
  },
  {
   "cell_type": "code",
   "execution_count": 431,
   "metadata": {},
   "outputs": [
    {
     "data": {
      "text/plain": [
       "array(['Hollywood', 'Wilshire', 'Southeast', 'Newton', 'Central',\n",
       "       '77th Street', 'West LA', 'Olympic', 'Southwest', 'West Valley',\n",
       "       'Mission', 'Hollenbeck', 'Northeast', 'Rampart', 'Harbor',\n",
       "       'Foothill', 'N Hollywood', 'Pacific', 'Devonshire', 'Topanga',\n",
       "       'Van Nuys'], dtype=object)"
      ]
     },
     "execution_count": 431,
     "metadata": {},
     "output_type": "execute_result"
    }
   ],
   "source": [
    "Arrestes_in_2018['Area Name'].unique()"
   ]
  },
  {
   "cell_type": "code",
   "execution_count": 432,
   "metadata": {},
   "outputs": [
    {
     "name": "stdout",
     "output_type": "stream",
     "text": [
      "Highest 2018 Arrestes in Central Area:  3980\n"
     ]
    }
   ],
   "source": [
    "#Question 2: HOw many bookings of arrestees were made in the area with most 2018\n",
    "# method2- Arrestes_in_2018.groupby('Area Name')['Report ID'].count().reset_index().sort_values('Report ID',ascending=False).head(10)\n",
    "highest_Arrestees = Arrestes_in_2018.groupby('Area Name')['Report ID'].nunique()\n",
    "print(\"Highest 2018 Arrestes in Central Area: \", max(highest_Arrestees))"
   ]
  },
  {
   "cell_type": "code",
   "execution_count": 433,
   "metadata": {},
   "outputs": [
    {
     "data": {
      "text/html": [
       "<div>\n",
       "<style scoped>\n",
       "    .dataframe tbody tr th:only-of-type {\n",
       "        vertical-align: middle;\n",
       "    }\n",
       "\n",
       "    .dataframe tbody tr th {\n",
       "        vertical-align: top;\n",
       "    }\n",
       "\n",
       "    .dataframe thead th {\n",
       "        text-align: right;\n",
       "    }\n",
       "</style>\n",
       "<table border=\"1\" class=\"dataframe\">\n",
       "  <thead>\n",
       "    <tr style=\"text-align: right;\">\n",
       "      <th></th>\n",
       "      <th>Charge Group Description</th>\n",
       "      <th>Age</th>\n",
       "    </tr>\n",
       "  </thead>\n",
       "  <tbody>\n",
       "    <tr>\n",
       "      <td>21</td>\n",
       "      <td>Rape</td>\n",
       "      <td>45.875000</td>\n",
       "    </tr>\n",
       "    <tr>\n",
       "      <td>6</td>\n",
       "      <td>Drunkeness</td>\n",
       "      <td>45.088521</td>\n",
       "    </tr>\n",
       "    <tr>\n",
       "      <td>13</td>\n",
       "      <td>Liquor Laws</td>\n",
       "      <td>43.947410</td>\n",
       "    </tr>\n",
       "    <tr>\n",
       "      <td>10</td>\n",
       "      <td>Gambling</td>\n",
       "      <td>42.413793</td>\n",
       "    </tr>\n",
       "    <tr>\n",
       "      <td>3</td>\n",
       "      <td>Disorderly Conduct</td>\n",
       "      <td>42.209902</td>\n",
       "    </tr>\n",
       "    <tr>\n",
       "      <td>4</td>\n",
       "      <td>Disturbing the Peace</td>\n",
       "      <td>41.500000</td>\n",
       "    </tr>\n",
       "    <tr>\n",
       "      <td>14</td>\n",
       "      <td>Miscellaneous Other Violations</td>\n",
       "      <td>39.368338</td>\n",
       "    </tr>\n",
       "    <tr>\n",
       "      <td>16</td>\n",
       "      <td>Narcotic Drug Laws</td>\n",
       "      <td>36.690933</td>\n",
       "    </tr>\n",
       "    <tr>\n",
       "      <td>9</td>\n",
       "      <td>Fraud/Embezzlement</td>\n",
       "      <td>35.138889</td>\n",
       "    </tr>\n",
       "    <tr>\n",
       "      <td>24</td>\n",
       "      <td>Sex (except rape/prst)</td>\n",
       "      <td>35.124294</td>\n",
       "    </tr>\n",
       "    <tr>\n",
       "      <td>8</td>\n",
       "      <td>Forgery/Counterfeit</td>\n",
       "      <td>34.666667</td>\n",
       "    </tr>\n",
       "    <tr>\n",
       "      <td>5</td>\n",
       "      <td>Driving Under Influence</td>\n",
       "      <td>34.552426</td>\n",
       "    </tr>\n",
       "    <tr>\n",
       "      <td>11</td>\n",
       "      <td>Homicide</td>\n",
       "      <td>33.928571</td>\n",
       "    </tr>\n",
       "    <tr>\n",
       "      <td>1</td>\n",
       "      <td>Aggravated Assault</td>\n",
       "      <td>33.536866</td>\n",
       "    </tr>\n",
       "    <tr>\n",
       "      <td>22</td>\n",
       "      <td>Receive Stolen Property</td>\n",
       "      <td>33.514286</td>\n",
       "    </tr>\n",
       "    <tr>\n",
       "      <td>15</td>\n",
       "      <td>Moving Traffic Violations</td>\n",
       "      <td>33.101990</td>\n",
       "    </tr>\n",
       "    <tr>\n",
       "      <td>7</td>\n",
       "      <td>Federal Offenses</td>\n",
       "      <td>33.000000</td>\n",
       "    </tr>\n",
       "    <tr>\n",
       "      <td>12</td>\n",
       "      <td>Larceny</td>\n",
       "      <td>32.860262</td>\n",
       "    </tr>\n",
       "    <tr>\n",
       "      <td>0</td>\n",
       "      <td>Against Family/Child</td>\n",
       "      <td>32.578947</td>\n",
       "    </tr>\n",
       "    <tr>\n",
       "      <td>18</td>\n",
       "      <td>Other Assaults</td>\n",
       "      <td>32.428934</td>\n",
       "    </tr>\n",
       "    <tr>\n",
       "      <td>20</td>\n",
       "      <td>Prostitution/Allied</td>\n",
       "      <td>30.967309</td>\n",
       "    </tr>\n",
       "    <tr>\n",
       "      <td>25</td>\n",
       "      <td>Vehicle Theft</td>\n",
       "      <td>30.064877</td>\n",
       "    </tr>\n",
       "    <tr>\n",
       "      <td>26</td>\n",
       "      <td>Weapon (carry/poss)</td>\n",
       "      <td>29.576060</td>\n",
       "    </tr>\n",
       "    <tr>\n",
       "      <td>2</td>\n",
       "      <td>Burglary</td>\n",
       "      <td>29.152941</td>\n",
       "    </tr>\n",
       "    <tr>\n",
       "      <td>23</td>\n",
       "      <td>Robbery</td>\n",
       "      <td>27.061350</td>\n",
       "    </tr>\n",
       "  </tbody>\n",
       "</table>\n",
       "</div>"
      ],
      "text/plain": [
       "          Charge Group Description        Age\n",
       "21                            Rape  45.875000\n",
       "6                       Drunkeness  45.088521\n",
       "13                     Liquor Laws  43.947410\n",
       "10                        Gambling  42.413793\n",
       "3               Disorderly Conduct  42.209902\n",
       "4             Disturbing the Peace  41.500000\n",
       "14  Miscellaneous Other Violations  39.368338\n",
       "16              Narcotic Drug Laws  36.690933\n",
       "9               Fraud/Embezzlement  35.138889\n",
       "24          Sex (except rape/prst)  35.124294\n",
       "8              Forgery/Counterfeit  34.666667\n",
       "5          Driving Under Influence  34.552426\n",
       "11                        Homicide  33.928571\n",
       "1               Aggravated Assault  33.536866\n",
       "22         Receive Stolen Property  33.514286\n",
       "15       Moving Traffic Violations  33.101990\n",
       "7                 Federal Offenses  33.000000\n",
       "12                         Larceny  32.860262\n",
       "0             Against Family/Child  32.578947\n",
       "18                  Other Assaults  32.428934\n",
       "20             Prostitution/Allied  30.967309\n",
       "25                   Vehicle Theft  30.064877\n",
       "26             Weapon (carry/poss)  29.576060\n",
       "2                         Burglary  29.152941\n",
       "23                         Robbery  27.061350"
      ]
     },
     "execution_count": 433,
     "metadata": {},
     "output_type": "execute_result"
    }
   ],
   "source": [
    "# Question 3: find average age of arrestees for each per each charge group\n",
    "Arrestes_in_2018.groupby('Charge Group Description')['Age'].mean().reset_index().sort_values('Age',ascending=False).drop(index=[19,17])"
   ]
  },
  {
   "cell_type": "code",
   "execution_count": 434,
   "metadata": {},
   "outputs": [],
   "source": [
    "#Question 3- Method2 \n",
    "# averages = []\n",
    "# for i in Arrestes_in_2018['Charge Group Description'].unique():\n",
    "#     if i == 'Non-Criminal Detention' or i == 'Pre-Delinquency':\n",
    "#         pass\n",
    "#     else:\n",
    "#         selected_One = Arrestes_in_2018['Age'].loc[Arrestes_in_2018['Charge Group Description'] == i]\n",
    "#         averages.append({i: selected_One.loc[selected_One.notnull()].mean()})\n",
    "\n",
    "# averages\n",
    "    "
   ]
  },
  {
   "cell_type": "code",
   "execution_count": 435,
   "metadata": {},
   "outputs": [
    {
     "name": "stdout",
     "output_type": "stream",
     "text": [
      "Quantile of Age : 49.14999999999998\n"
     ]
    }
   ],
   "source": [
    "# Question 4 What is the 95% quantile of the age of the arrestee in 2018? \n",
    "# Only consider the following charge groups for your analysis\n",
    "columns = ['Vehicle Theft', 'Robbery', 'Burglary', 'Receive Stolen Property']\n",
    "Quantile_Age = Arrestes_in_2018['Age'].loc[Arrestes_in_2018['Charge Group Description'].isin(columns)].quantile(.95)\n",
    "print(\"Quantile of Age :\", Quantile_Age)"
   ]
  },
  {
   "cell_type": "code",
   "execution_count": null,
   "metadata": {},
   "outputs": [],
   "source": []
  },
  {
   "cell_type": "code",
   "execution_count": 436,
   "metadata": {},
   "outputs": [],
   "source": [
    "# Q5. Felony arrest incidents have been dropping over the years. Using a trend line (linear estimation) for the data \n",
    "# from 2010 and 2018 (inclusive), what is the projected number of felony \n",
    "# arrests in 2019? Round to the nearest integer. Note, the data set includes arrests for misdemeanor, felonies, etc"
   ]
  },
  {
   "cell_type": "code",
   "execution_count": 437,
   "metadata": {},
   "outputs": [
    {
     "data": {
      "text/plain": [
       "0"
      ]
     },
     "execution_count": 437,
     "metadata": {},
     "output_type": "execute_result"
    }
   ],
   "source": [
    "df['Charge'].str.contains('felony').sum()"
   ]
  },
  {
   "cell_type": "code",
   "execution_count": 440,
   "metadata": {},
   "outputs": [],
   "source": [
    "# murder, rape, burglary, kidnapping and arson\n",
    "df['year'] = df['Arrest Date'].dt.year\n",
    "data_2010to2018=df[(df['year'] >=2010) & (df['year'] <=2018) ]\n"
   ]
  },
  {
   "cell_type": "code",
   "execution_count": 441,
   "metadata": {},
   "outputs": [],
   "source": [
    "i = data_2010to2018[(data_2010to2018['Charge Group Description'] == 'Larceny')].index\n",
    "data_2010to2018.drop(i,inplace =True)\n",
    "i = data_2010to2018[(data_2010to2018['Charge Group Description'] == 'Other Assaults')].index\n",
    "data_2010to2018.drop(i,inplace =True)\n",
    "i = data_2010to2018[(data_2010to2018['Charge Group Description'] == 'Receive Stolen Property')].index\n",
    "data_2010to2018.drop(i,inplace =True)\n",
    "i = data_2010to2018[(data_2010to2018['Charge Group Description'] == 'Driving Under Influence')].index\n",
    "data_2010to2018.drop(i,inplace =True)\n",
    "i = data_2010to2018[(data_2010to2018['Charge Group Description'] == 'Prostitution/Allied')].index\n",
    "data_2010to2018.drop(i,inplace =True)\n",
    "i = data_2010to2018[(data_2010to2018['Charge Group Description'] == 'Moving Traffic Violations')].index\n",
    "data_2010to2018.drop(i,inplace =True)\n",
    "i = data_2010to2018[(data_2010to2018['Charge Group Description'] == 'Liquor Laws')].index\n",
    "data_2010to2018.drop(i,inplace =True)\n",
    "i = data_2010to2018[(data_2010to2018['Charge Group Description'] == 'Drunkeness')].index\n",
    "data_2010to2018.drop(i,inplace =True)\n",
    "i = data_2010to2018[(data_2010to2018['Charge Group Description'] == 'Disturbing the Peace')].index\n",
    "data_2010to2018.drop(i,inplace =True)\n",
    "i = data_2010to2018[(data_2010to2018['Charge Group Description'] == 'Gambling')].index\n",
    "data_2010to2018.drop(i,inplace =True)"
   ]
  },
  {
   "cell_type": "code",
   "execution_count": 442,
   "metadata": {},
   "outputs": [
    {
     "data": {
      "text/html": [
       "<div>\n",
       "<style scoped>\n",
       "    .dataframe tbody tr th:only-of-type {\n",
       "        vertical-align: middle;\n",
       "    }\n",
       "\n",
       "    .dataframe tbody tr th {\n",
       "        vertical-align: top;\n",
       "    }\n",
       "\n",
       "    .dataframe thead th {\n",
       "        text-align: right;\n",
       "    }\n",
       "</style>\n",
       "<table border=\"1\" class=\"dataframe\">\n",
       "  <thead>\n",
       "    <tr style=\"text-align: right;\">\n",
       "      <th></th>\n",
       "      <th>year</th>\n",
       "      <th>Charge Group Description</th>\n",
       "    </tr>\n",
       "  </thead>\n",
       "  <tbody>\n",
       "    <tr>\n",
       "      <td>0</td>\n",
       "      <td>2015</td>\n",
       "      <td>Burglary</td>\n",
       "    </tr>\n",
       "    <tr>\n",
       "      <td>6</td>\n",
       "      <td>2015</td>\n",
       "      <td>Burglary</td>\n",
       "    </tr>\n",
       "    <tr>\n",
       "      <td>7</td>\n",
       "      <td>2015</td>\n",
       "      <td>Robbery</td>\n",
       "    </tr>\n",
       "    <tr>\n",
       "      <td>165</td>\n",
       "      <td>2018</td>\n",
       "      <td>Fraud/Embezzlement</td>\n",
       "    </tr>\n",
       "    <tr>\n",
       "      <td>166</td>\n",
       "      <td>2018</td>\n",
       "      <td>Homicide</td>\n",
       "    </tr>\n",
       "    <tr>\n",
       "      <td>...</td>\n",
       "      <td>...</td>\n",
       "      <td>...</td>\n",
       "    </tr>\n",
       "    <tr>\n",
       "      <td>1227505</td>\n",
       "      <td>2018</td>\n",
       "      <td>Miscellaneous Other Violations</td>\n",
       "    </tr>\n",
       "    <tr>\n",
       "      <td>1227507</td>\n",
       "      <td>2018</td>\n",
       "      <td>Sex (except rape/prst)</td>\n",
       "    </tr>\n",
       "    <tr>\n",
       "      <td>1227508</td>\n",
       "      <td>2018</td>\n",
       "      <td>Miscellaneous Other Violations</td>\n",
       "    </tr>\n",
       "    <tr>\n",
       "      <td>1227510</td>\n",
       "      <td>2018</td>\n",
       "      <td>Aggravated Assault</td>\n",
       "    </tr>\n",
       "    <tr>\n",
       "      <td>1227511</td>\n",
       "      <td>2018</td>\n",
       "      <td>Vehicle Theft</td>\n",
       "    </tr>\n",
       "  </tbody>\n",
       "</table>\n",
       "<p>330817 rows × 2 columns</p>\n",
       "</div>"
      ],
      "text/plain": [
       "         year        Charge Group Description\n",
       "0        2015                        Burglary\n",
       "6        2015                        Burglary\n",
       "7        2015                         Robbery\n",
       "165      2018              Fraud/Embezzlement\n",
       "166      2018                        Homicide\n",
       "...       ...                             ...\n",
       "1227505  2018  Miscellaneous Other Violations\n",
       "1227507  2018          Sex (except rape/prst)\n",
       "1227508  2018  Miscellaneous Other Violations\n",
       "1227510  2018              Aggravated Assault\n",
       "1227511  2018                   Vehicle Theft\n",
       "\n",
       "[330817 rows x 2 columns]"
      ]
     },
     "execution_count": 442,
     "metadata": {},
     "output_type": "execute_result"
    }
   ],
   "source": [
    "felony_dataset=data_2010to2018.copy()\n",
    "felony_dataset=felony_dataset[['year','Charge Group Description']]\n",
    "felony_dataset"
   ]
  },
  {
   "cell_type": "code",
   "execution_count": 443,
   "metadata": {},
   "outputs": [],
   "source": [
    "import seaborn as sns\n",
    "import matplotlib.pyplot as plt\n",
    "import warnings\n",
    "warnings.filterwarnings('ignore')\n",
    "from pandas.plotting import autocorrelation_plot\n",
    "from pandas import DataFrame\n",
    "from statsmodels.tsa.arima_model import ARIMA\n",
    "from matplotlib import pyplot\n",
    "from pandas import datetime\n",
    "from matplotlib import pyplot\n",
    "from statsmodels.tsa.arima_model import ARIMA\n",
    "from sklearn.metrics import mean_squared_error\n",
    "from sklearn.metrics import mean_absolute_error\n",
    "from sklearn.preprocessing import LabelEncoder\n",
    "from sklearn.linear_model import LinearRegression"
   ]
  },
  {
   "cell_type": "code",
   "execution_count": 444,
   "metadata": {},
   "outputs": [],
   "source": [
    "lb= LabelEncoder()"
   ]
  },
  {
   "cell_type": "code",
   "execution_count": 445,
   "metadata": {},
   "outputs": [
    {
     "data": {
      "text/html": [
       "<div>\n",
       "<style scoped>\n",
       "    .dataframe tbody tr th:only-of-type {\n",
       "        vertical-align: middle;\n",
       "    }\n",
       "\n",
       "    .dataframe tbody tr th {\n",
       "        vertical-align: top;\n",
       "    }\n",
       "\n",
       "    .dataframe thead th {\n",
       "        text-align: right;\n",
       "    }\n",
       "</style>\n",
       "<table border=\"1\" class=\"dataframe\">\n",
       "  <thead>\n",
       "    <tr style=\"text-align: right;\">\n",
       "      <th></th>\n",
       "      <th>year</th>\n",
       "      <th>Charge Group Description</th>\n",
       "    </tr>\n",
       "  </thead>\n",
       "  <tbody>\n",
       "    <tr>\n",
       "      <td>8</td>\n",
       "      <td>2018</td>\n",
       "      <td>73358</td>\n",
       "    </tr>\n",
       "    <tr>\n",
       "      <td>7</td>\n",
       "      <td>2017</td>\n",
       "      <td>260854</td>\n",
       "    </tr>\n",
       "    <tr>\n",
       "      <td>6</td>\n",
       "      <td>2016</td>\n",
       "      <td>260476</td>\n",
       "    </tr>\n",
       "    <tr>\n",
       "      <td>5</td>\n",
       "      <td>2015</td>\n",
       "      <td>268183</td>\n",
       "    </tr>\n",
       "    <tr>\n",
       "      <td>4</td>\n",
       "      <td>2014</td>\n",
       "      <td>309417</td>\n",
       "    </tr>\n",
       "    <tr>\n",
       "      <td>3</td>\n",
       "      <td>2013</td>\n",
       "      <td>346673</td>\n",
       "    </tr>\n",
       "    <tr>\n",
       "      <td>2</td>\n",
       "      <td>2012</td>\n",
       "      <td>372749</td>\n",
       "    </tr>\n",
       "    <tr>\n",
       "      <td>1</td>\n",
       "      <td>2011</td>\n",
       "      <td>405383</td>\n",
       "    </tr>\n",
       "    <tr>\n",
       "      <td>0</td>\n",
       "      <td>2010</td>\n",
       "      <td>423694</td>\n",
       "    </tr>\n",
       "  </tbody>\n",
       "</table>\n",
       "</div>"
      ],
      "text/plain": [
       "   year  Charge Group Description\n",
       "8  2018                     73358\n",
       "7  2017                    260854\n",
       "6  2016                    260476\n",
       "5  2015                    268183\n",
       "4  2014                    309417\n",
       "3  2013                    346673\n",
       "2  2012                    372749\n",
       "1  2011                    405383\n",
       "0  2010                    423694"
      ]
     },
     "execution_count": 445,
     "metadata": {},
     "output_type": "execute_result"
    }
   ],
   "source": [
    "felony_dataset['Charge Group Description'] = lb.fit_transform(felony_dataset['Charge Group Description'])\n",
    "gkk= felony_dataset.groupby('year')['Charge Group Description'].sum().reset_index().sort_values('year',ascending=False)\n",
    "gkk"
   ]
  },
  {
   "cell_type": "code",
   "execution_count": 446,
   "metadata": {},
   "outputs": [
    {
     "data": {
      "text/plain": [
       "<matplotlib.axes._subplots.AxesSubplot at 0x207e456b708>"
      ]
     },
     "execution_count": 446,
     "metadata": {},
     "output_type": "execute_result"
    },
    {
     "data": {
      "image/png": "[encoded data removed]",
      "text/plain": [
       "<Figure size 432x288 with 1 Axes>"
      ]
     },
     "metadata": {
      "needs_background": "light"
     },
     "output_type": "display_data"
    }
   ],
   "source": [
    "gkk.plot(x = \"year\", y = \"Charge Group Description\")"
   ]
  },
  {
   "cell_type": "code",
   "execution_count": 447,
   "metadata": {},
   "outputs": [
    {
     "data": {
      "text/plain": [
       "GradientBoostingRegressor(alpha=0.9, criterion='friedman_mse', init=None,\n",
       "                          learning_rate=1, loss='ls', max_depth=3,\n",
       "                          max_features=None, max_leaf_nodes=None,\n",
       "                          min_impurity_decrease=0.0, min_impurity_split=None,\n",
       "                          min_samples_leaf=1, min_samples_split=2,\n",
       "                          min_weight_fraction_leaf=0.0, n_estimators=10,\n",
       "                          n_iter_no_change=None, presort='auto',\n",
       "                          random_state=None, subsample=1.0, tol=0.0001,\n",
       "                          validation_fraction=0.1, verbose=0, warm_start=False)"
      ]
     },
     "execution_count": 447,
     "metadata": {},
     "output_type": "execute_result"
    }
   ],
   "source": [
    "# model.score(gkk[['year']],gkk['Charge Group Description'])\n",
    "from sklearn.ensemble import GradientBoostingRegressor\n",
    "model = GradientBoostingRegressor(n_estimators=10,learning_rate=1)\n",
    "model.fit(gkk[['year']],gkk['Charge Group Description'])"
   ]
  },
  {
   "cell_type": "code",
   "execution_count": 448,
   "metadata": {},
   "outputs": [
    {
     "data": {
      "text/plain": [
       "1.0"
      ]
     },
     "execution_count": 448,
     "metadata": {},
     "output_type": "execute_result"
    }
   ],
   "source": [
    "model.score(gkk[['year']],gkk['Charge Group Description'])"
   ]
  },
  {
   "cell_type": "code",
   "execution_count": 449,
   "metadata": {},
   "outputs": [
    {
     "data": {
      "text/plain": [
       "array([73358.])"
      ]
     },
     "execution_count": 449,
     "metadata": {},
     "output_type": "execute_result"
    }
   ],
   "source": [
    "# The projected number of felony arrests in 2019\n",
    "arr= np.array([2019])\n",
    "y_pred= model.predict([arr])\n",
    "y_pred"
   ]
  },
  {
   "cell_type": "code",
   "execution_count": 450,
   "metadata": {},
   "outputs": [
    {
     "data": {
      "text/plain": [
       "LinearRegression(copy_X=True, fit_intercept=True, n_jobs=None, normalize=False)"
      ]
     },
     "execution_count": 450,
     "metadata": {},
     "output_type": "execute_result"
    }
   ],
   "source": [
    "# LinearRegression\n",
    "lr= LinearRegression()\n",
    "lr.fit(gkk[['year']],gkk['Charge Group Description'])"
   ]
  },
  {
   "cell_type": "code",
   "execution_count": 451,
   "metadata": {},
   "outputs": [
    {
     "data": {
      "text/plain": [
       "0.8522330154058445"
      ]
     },
     "execution_count": 451,
     "metadata": {},
     "output_type": "execute_result"
    }
   ],
   "source": [
    "lr.score(gkk[['year']],gkk['Charge Group Description'])"
   ]
  },
  {
   "cell_type": "code",
   "execution_count": 452,
   "metadata": {},
   "outputs": [
    {
     "data": {
      "text/plain": [
       "array([-35632.78333333])"
      ]
     },
     "execution_count": 452,
     "metadata": {},
     "output_type": "execute_result"
    }
   ],
   "source": [
    "lr.coef_"
   ]
  },
  {
   "cell_type": "code",
   "execution_count": 453,
   "metadata": {},
   "outputs": [
    {
     "data": {
      "text/plain": [
       "72066735.30000001"
      ]
     },
     "execution_count": 453,
     "metadata": {},
     "output_type": "execute_result"
    }
   ],
   "source": [
    "lr.intercept_"
   ]
  },
  {
   "cell_type": "code",
   "execution_count": 454,
   "metadata": {},
   "outputs": [
    {
     "data": {
      "text/plain": [
       "array([124145.75])"
      ]
     },
     "execution_count": 454,
     "metadata": {},
     "output_type": "execute_result"
    }
   ],
   "source": [
    "# The projected number of felony arrests in 2019\n",
    "\n",
    "arr= np.array([2019])\n",
    "y_pred= lr.predict([arr])\n",
    "y_pred"
   ]
  },
  {
   "cell_type": "code",
   "execution_count": 455,
   "metadata": {},
   "outputs": [],
   "source": [
    "# Predicitions using Time Series (Learning Purpose)\n",
    "gkks=gkk.copy()\n",
    "gkks['year']=pd.to_datetime(gkks['year'])\n",
    "gkks.set_index('year',inplace=True)"
   ]
  },
  {
   "cell_type": "code",
   "execution_count": 456,
   "metadata": {},
   "outputs": [
    {
     "data": {
      "text/plain": [
       "array([[ 73358],\n",
       "       [260854],\n",
       "       [260476],\n",
       "       [268183],\n",
       "       [309417],\n",
       "       [346673],\n",
       "       [372749],\n",
       "       [405383],\n",
       "       [423694]])"
      ]
     },
     "execution_count": 456,
     "metadata": {},
     "output_type": "execute_result"
    }
   ],
   "source": [
    "X = gkks.values\n",
    "X"
   ]
  },
  {
   "cell_type": "code",
   "execution_count": 457,
   "metadata": {},
   "outputs": [
    {
     "data": {
      "text/plain": [
       "<matplotlib.axes._subplots.AxesSubplot at 0x207ced134c8>"
      ]
     },
     "execution_count": 457,
     "metadata": {},
     "output_type": "execute_result"
    },
    {
     "data": {
      "image/png": "[encoded data removed]",
      "text/plain": [
       "<Figure size 432x288 with 1 Axes>"
      ]
     },
     "metadata": {
      "needs_background": "light"
     },
     "output_type": "display_data"
    }
   ],
   "source": [
    "autocorrelation_plot(X)"
   ]
  },
  {
   "cell_type": "code",
   "execution_count": 458,
   "metadata": {},
   "outputs": [
    {
     "data": {
      "text/plain": [
       "[<matplotlib.lines.Line2D at 0x207ceda4888>]"
      ]
     },
     "execution_count": 458,
     "metadata": {},
     "output_type": "execute_result"
    },
    {
     "data": {
      "image/png": "[encoded data removed]",
      "text/plain": [
       "<Figure size 432x288 with 1 Axes>"
      ]
     },
     "metadata": {
      "needs_background": "light"
     },
     "output_type": "display_data"
    }
   ],
   "source": [
    "from statsmodels.tsa.stattools import acf,pacf\n",
    "autor=acf(X,nlags=3)\n",
    "par=pacf(X,nlags=3,method='ols')\n",
    "pyplot.plot(autor,label='std')"
   ]
  },
  {
   "cell_type": "code",
   "execution_count": 459,
   "metadata": {},
   "outputs": [
    {
     "name": "stdout",
     "output_type": "stream",
     "text": [
      "                           Statespace Model Results                           \n",
      "==============================================================================\n",
      "Dep. Variable:                      y   No. Observations:                    9\n",
      "Model:               SARIMAX(1, 0, 0)   Log Likelihood                -114.763\n",
      "Date:                Tue, 06 Oct 2020   AIC                            233.526\n",
      "Time:                        23:30:50   BIC                            233.921\n",
      "Sample:                             0   HQIC                           232.675\n",
      "                                  - 9                                         \n",
      "Covariance Type:                  opg                                         \n",
      "==============================================================================\n",
      "                 coef    std err          z      P>|z|      [0.025      0.975]\n",
      "------------------------------------------------------------------------------\n",
      "ar.L1          0.9763      0.047     20.584      0.000       0.883       1.069\n",
      "sigma2      4.285e+09   3.95e-13   1.08e+22      0.000    4.28e+09    4.28e+09\n",
      "===================================================================================\n",
      "Ljung-Box (Q):                         nan   Jarque-Bera (JB):                10.81\n",
      "Prob(Q):                               nan   Prob(JB):                         0.00\n",
      "Heteroskedasticity (H):               0.10   Skew:                             2.15\n",
      "Prob(H) (two-sided):                  0.09   Kurtosis:                         6.23\n",
      "===================================================================================\n",
      "\n",
      "Warnings:\n",
      "[1] Covariance matrix calculated using the outer product of gradients (complex-step).\n",
      "[2] Covariance matrix is singular or near-singular, with condition number 2.68e+38. Standard errors may be unstable.\n"
     ]
    }
   ],
   "source": [
    "import statsmodels.api as sms\n",
    "model = sms.tsa.statespace.SARIMAX(X,order=(1,0,0))\n",
    "result = model.fit()\n",
    "print(result.summary())"
   ]
  },
  {
   "cell_type": "code",
   "execution_count": 460,
   "metadata": {},
   "outputs": [
    {
     "ename": "ValueError",
     "evalue": "maxlag should be < nobs",
     "output_type": "error",
     "traceback": [
      "\u001b[1;31m---------------------------------------------------------------------------\u001b[0m",
      "\u001b[1;31mValueError\u001b[0m                                Traceback (most recent call last)",
      "\u001b[1;32m<ipython-input-460-12c747c2a4e2>\u001b[0m in \u001b[0;36m<module>\u001b[1;34m\u001b[0m\n\u001b[0;32m      3\u001b[0m \u001b[1;33m\u001b[0m\u001b[0m\n\u001b[0;32m      4\u001b[0m \u001b[0mmodel\u001b[0m \u001b[1;33m=\u001b[0m \u001b[0mSARIMAX\u001b[0m\u001b[1;33m(\u001b[0m\u001b[0mX\u001b[0m\u001b[1;33m,\u001b[0m \u001b[0morder\u001b[0m\u001b[1;33m=\u001b[0m\u001b[1;33m(\u001b[0m\u001b[1;36m1\u001b[0m\u001b[1;33m,\u001b[0m \u001b[1;36m3\u001b[0m\u001b[1;33m,\u001b[0m \u001b[1;36m2\u001b[0m\u001b[1;33m)\u001b[0m\u001b[1;33m)\u001b[0m\u001b[1;33m\u001b[0m\u001b[1;33m\u001b[0m\u001b[0m\n\u001b[1;32m----> 5\u001b[1;33m \u001b[0mmodel_fit\u001b[0m \u001b[1;33m=\u001b[0m \u001b[0mmodel\u001b[0m\u001b[1;33m.\u001b[0m\u001b[0mfit\u001b[0m\u001b[1;33m(\u001b[0m\u001b[0mdisp\u001b[0m\u001b[1;33m=\u001b[0m\u001b[1;32mFalse\u001b[0m\u001b[1;33m)\u001b[0m\u001b[1;33m\u001b[0m\u001b[1;33m\u001b[0m\u001b[0m\n\u001b[0m\u001b[0;32m      6\u001b[0m \u001b[1;31m# make prediction\u001b[0m\u001b[1;33m\u001b[0m\u001b[1;33m\u001b[0m\u001b[1;33m\u001b[0m\u001b[0m\n\u001b[0;32m      7\u001b[0m \u001b[0myhat\u001b[0m \u001b[1;33m=\u001b[0m \u001b[0mmodel_fit\u001b[0m\u001b[1;33m.\u001b[0m\u001b[0mpredict\u001b[0m\u001b[1;33m(\u001b[0m\u001b[0mlen\u001b[0m\u001b[1;33m(\u001b[0m\u001b[0mX\u001b[0m\u001b[1;33m)\u001b[0m\u001b[1;33m,\u001b[0m \u001b[0mlen\u001b[0m\u001b[1;33m(\u001b[0m\u001b[0mX\u001b[0m\u001b[1;33m)\u001b[0m\u001b[1;33m+\u001b[0m\u001b[1;36m1\u001b[0m\u001b[1;33m)\u001b[0m\u001b[1;33m\u001b[0m\u001b[1;33m\u001b[0m\u001b[0m\n",
      "\u001b[1;32m~\\Anaconda3\\lib\\site-packages\\statsmodels\\tsa\\statespace\\mlemodel.py\u001b[0m in \u001b[0;36mfit\u001b[1;34m(self, start_params, transformed, cov_type, cov_kwds, method, maxiter, full_output, disp, callback, return_params, optim_score, optim_complex_step, optim_hessian, flags, **kwargs)\u001b[0m\n\u001b[0;32m    443\u001b[0m         \"\"\"\n\u001b[0;32m    444\u001b[0m         \u001b[1;32mif\u001b[0m \u001b[0mstart_params\u001b[0m \u001b[1;32mis\u001b[0m \u001b[1;32mNone\u001b[0m\u001b[1;33m:\u001b[0m\u001b[1;33m\u001b[0m\u001b[1;33m\u001b[0m\u001b[0m\n\u001b[1;32m--> 445\u001b[1;33m             \u001b[0mstart_params\u001b[0m \u001b[1;33m=\u001b[0m \u001b[0mself\u001b[0m\u001b[1;33m.\u001b[0m\u001b[0mstart_params\u001b[0m\u001b[1;33m\u001b[0m\u001b[1;33m\u001b[0m\u001b[0m\n\u001b[0m\u001b[0;32m    446\u001b[0m             \u001b[0mtransformed\u001b[0m \u001b[1;33m=\u001b[0m \u001b[1;32mTrue\u001b[0m\u001b[1;33m\u001b[0m\u001b[1;33m\u001b[0m\u001b[0m\n\u001b[0;32m    447\u001b[0m \u001b[1;33m\u001b[0m\u001b[0m\n",
      "\u001b[1;32m~\\Anaconda3\\lib\\site-packages\\statsmodels\\tsa\\statespace\\sarimax.py\u001b[0m in \u001b[0;36mstart_params\u001b[1;34m(self)\u001b[0m\n\u001b[0;32m    936\u001b[0m          \u001b[0mparams_variance\u001b[0m\u001b[1;33m)\u001b[0m \u001b[1;33m=\u001b[0m \u001b[0mself\u001b[0m\u001b[1;33m.\u001b[0m\u001b[0m_conditional_sum_squares\u001b[0m\u001b[1;33m(\u001b[0m\u001b[1;33m\u001b[0m\u001b[1;33m\u001b[0m\u001b[0m\n\u001b[0;32m    937\u001b[0m             \u001b[0mendog\u001b[0m\u001b[1;33m,\u001b[0m \u001b[0mself\u001b[0m\u001b[1;33m.\u001b[0m\u001b[0mk_ar\u001b[0m\u001b[1;33m,\u001b[0m \u001b[0mself\u001b[0m\u001b[1;33m.\u001b[0m\u001b[0mpolynomial_ar\u001b[0m\u001b[1;33m,\u001b[0m \u001b[0mself\u001b[0m\u001b[1;33m.\u001b[0m\u001b[0mk_ma\u001b[0m\u001b[1;33m,\u001b[0m\u001b[1;33m\u001b[0m\u001b[1;33m\u001b[0m\u001b[0m\n\u001b[1;32m--> 938\u001b[1;33m             \u001b[0mself\u001b[0m\u001b[1;33m.\u001b[0m\u001b[0mpolynomial_ma\u001b[0m\u001b[1;33m,\u001b[0m \u001b[0mself\u001b[0m\u001b[1;33m.\u001b[0m\u001b[0mk_trend\u001b[0m\u001b[1;33m,\u001b[0m \u001b[0mtrend_data\u001b[0m\u001b[1;33m\u001b[0m\u001b[1;33m\u001b[0m\u001b[0m\n\u001b[0m\u001b[0;32m    939\u001b[0m         )\n\u001b[0;32m    940\u001b[0m \u001b[1;33m\u001b[0m\u001b[0m\n",
      "\u001b[1;32m~\\Anaconda3\\lib\\site-packages\\statsmodels\\tsa\\statespace\\sarimax.py\u001b[0m in \u001b[0;36m_conditional_sum_squares\u001b[1;34m(endog, k_ar, polynomial_ar, k_ma, polynomial_ma, k_trend, trend_data)\u001b[0m\n\u001b[0;32m    861\u001b[0m             \u001b[1;32mif\u001b[0m \u001b[0mk_ma\u001b[0m \u001b[1;33m>\u001b[0m \u001b[1;36m0\u001b[0m\u001b[1;33m:\u001b[0m\u001b[1;33m\u001b[0m\u001b[1;33m\u001b[0m\u001b[0m\n\u001b[0;32m    862\u001b[0m                 \u001b[0mcols\u001b[0m \u001b[1;33m=\u001b[0m \u001b[0mpolynomial_ma\u001b[0m\u001b[1;33m.\u001b[0m\u001b[0mnonzero\u001b[0m\u001b[1;33m(\u001b[0m\u001b[1;33m)\u001b[0m\u001b[1;33m[\u001b[0m\u001b[1;36m0\u001b[0m\u001b[1;33m]\u001b[0m\u001b[1;33m[\u001b[0m\u001b[1;36m1\u001b[0m\u001b[1;33m:\u001b[0m\u001b[1;33m]\u001b[0m \u001b[1;33m-\u001b[0m \u001b[1;36m1\u001b[0m\u001b[1;33m\u001b[0m\u001b[1;33m\u001b[0m\u001b[0m\n\u001b[1;32m--> 863\u001b[1;33m                 \u001b[0mX\u001b[0m \u001b[1;33m=\u001b[0m \u001b[0mnp\u001b[0m\u001b[1;33m.\u001b[0m\u001b[0mc_\u001b[0m\u001b[1;33m[\u001b[0m\u001b[0mX\u001b[0m\u001b[1;33m,\u001b[0m \u001b[0mlagmat\u001b[0m\u001b[1;33m(\u001b[0m\u001b[0mresiduals\u001b[0m\u001b[1;33m,\u001b[0m \u001b[0mk_ma\u001b[0m\u001b[1;33m)\u001b[0m\u001b[1;33m[\u001b[0m\u001b[0mr\u001b[0m\u001b[1;33m-\u001b[0m\u001b[0mk\u001b[0m\u001b[1;33m:\u001b[0m\u001b[1;33m,\u001b[0m \u001b[0mcols\u001b[0m\u001b[1;33m]\u001b[0m\u001b[1;33m]\u001b[0m\u001b[1;33m\u001b[0m\u001b[1;33m\u001b[0m\u001b[0m\n\u001b[0m\u001b[0;32m    864\u001b[0m \u001b[1;33m\u001b[0m\u001b[0m\n\u001b[0;32m    865\u001b[0m             \u001b[1;31m# Get the array of [ar_params, ma_params]\u001b[0m\u001b[1;33m\u001b[0m\u001b[1;33m\u001b[0m\u001b[1;33m\u001b[0m\u001b[0m\n",
      "\u001b[1;32m~\\Anaconda3\\lib\\site-packages\\statsmodels\\tsa\\tsatools.py\u001b[0m in \u001b[0;36mlagmat\u001b[1;34m(x, maxlag, trim, original, use_pandas)\u001b[0m\n\u001b[0;32m    406\u001b[0m         \u001b[0mdropidx\u001b[0m \u001b[1;33m=\u001b[0m \u001b[0mnvar\u001b[0m\u001b[1;33m\u001b[0m\u001b[1;33m\u001b[0m\u001b[0m\n\u001b[0;32m    407\u001b[0m     \u001b[1;32mif\u001b[0m \u001b[0mmaxlag\u001b[0m \u001b[1;33m>=\u001b[0m \u001b[0mnobs\u001b[0m\u001b[1;33m:\u001b[0m\u001b[1;33m\u001b[0m\u001b[1;33m\u001b[0m\u001b[0m\n\u001b[1;32m--> 408\u001b[1;33m         \u001b[1;32mraise\u001b[0m \u001b[0mValueError\u001b[0m\u001b[1;33m(\u001b[0m\u001b[1;34m\"maxlag should be < nobs\"\u001b[0m\u001b[1;33m)\u001b[0m\u001b[1;33m\u001b[0m\u001b[1;33m\u001b[0m\u001b[0m\n\u001b[0m\u001b[0;32m    409\u001b[0m     \u001b[0mlm\u001b[0m \u001b[1;33m=\u001b[0m \u001b[0mnp\u001b[0m\u001b[1;33m.\u001b[0m\u001b[0mzeros\u001b[0m\u001b[1;33m(\u001b[0m\u001b[1;33m(\u001b[0m\u001b[0mnobs\u001b[0m \u001b[1;33m+\u001b[0m \u001b[0mmaxlag\u001b[0m\u001b[1;33m,\u001b[0m \u001b[0mnvar\u001b[0m \u001b[1;33m*\u001b[0m \u001b[1;33m(\u001b[0m\u001b[0mmaxlag\u001b[0m \u001b[1;33m+\u001b[0m \u001b[1;36m1\u001b[0m\u001b[1;33m)\u001b[0m\u001b[1;33m)\u001b[0m\u001b[1;33m)\u001b[0m\u001b[1;33m\u001b[0m\u001b[1;33m\u001b[0m\u001b[0m\n\u001b[0;32m    410\u001b[0m     \u001b[1;32mfor\u001b[0m \u001b[0mk\u001b[0m \u001b[1;32min\u001b[0m \u001b[0mrange\u001b[0m\u001b[1;33m(\u001b[0m\u001b[1;36m0\u001b[0m\u001b[1;33m,\u001b[0m \u001b[0mint\u001b[0m\u001b[1;33m(\u001b[0m\u001b[0mmaxlag\u001b[0m \u001b[1;33m+\u001b[0m \u001b[1;36m1\u001b[0m\u001b[1;33m)\u001b[0m\u001b[1;33m)\u001b[0m\u001b[1;33m:\u001b[0m\u001b[1;33m\u001b[0m\u001b[1;33m\u001b[0m\u001b[0m\n",
      "\u001b[1;31mValueError\u001b[0m: maxlag should be < nobs"
     ]
    }
   ],
   "source": [
    "from statsmodels.tsa.statespace.sarimax import SARIMAX\n",
    "from random import random\n",
    "\n",
    "model = SARIMAX(X, order=(1, 3, 2))\n",
    "model_fit = model.fit(disp=False)\n",
    "# make prediction\n",
    "yhat = model_fit.predict(len(X), len(X)+1)\n",
    "print(yhat)"
   ]
  },
  {
   "cell_type": "code",
   "execution_count": 465,
   "metadata": {},
   "outputs": [],
   "source": [
    "# Question 6: How many arrest incidents occurred within 2 km from the Bradbury\n",
    "# Building in 2018? Use (34.050536, -118.247861) for the coordinates of the Bradbury Building . \n",
    "# For simplicity, please use the spherical Earth projected to a plane equation for calculating distances. \n",
    "# Use the radius of the Earth as 6371 km. Note, some arrest records are missing location data and the location is listed \n",
    "# as (0, 0). These records should not factor in your calculation."
   ]
  },
  {
   "cell_type": "code",
   "execution_count": 466,
   "metadata": {},
   "outputs": [],
   "source": [
    "from math import sin,cos,sqrt,atan2,radians"
   ]
  },
  {
   "cell_type": "code",
   "execution_count": 467,
   "metadata": {},
   "outputs": [],
   "source": [
    "def calculate_distance(coord):\n",
    "    R=6371.0\n",
    "    lat1=radians(34.050536)\n",
    "    lon1=radians(-118.247861)\n",
    "    lat2=radians(coord[0])\n",
    "    lon2=radians(coord[1])\n",
    "    dlon=lon2-lon1\n",
    "    dlat=lat2-lat1\n",
    "    \n",
    "    a= sin(dlat/2)**2+ cos(lat1)+cos(lat2)+sin(dlon/2)**2\n",
    "    c = 2 * atan2(sqrt(a), sqrt(a-1))\n",
    "\n",
    "    distance = R*c\n",
    "    return distance"
   ]
  },
  {
   "cell_type": "code",
   "execution_count": 468,
   "metadata": {},
   "outputs": [
    {
     "data": {
      "text/plain": [
       "<function __main__.calculate_distance(coord)>"
      ]
     },
     "execution_count": 468,
     "metadata": {},
     "output_type": "execute_result"
    }
   ],
   "source": [
    "calculate_distance"
   ]
  },
  {
   "cell_type": "code",
   "execution_count": 469,
   "metadata": {},
   "outputs": [
    {
     "data": {
      "text/plain": [
       "165        12855.513810\n",
       "166        12854.544734\n",
       "171        12851.457631\n",
       "177        12853.812284\n",
       "178        12854.139666\n",
       "               ...     \n",
       "1227507    12853.781433\n",
       "1227508    12855.592781\n",
       "1227510    12852.846104\n",
       "1227511    12859.776084\n",
       "1227515    12853.621412\n",
       "Name: distance_Bradbury, Length: 18442, dtype: float64"
      ]
     },
     "execution_count": 469,
     "metadata": {},
     "output_type": "execute_result"
    }
   ],
   "source": [
    "Arrestes_in_2018[\"distance_Bradbury\"]=Arrestes_in_2018[(Arrestes_in_2018['Location']!=\"(0,0)\")&(pd.notna(df['Location']))]['Location'].apply(lambda x: calculate_distance([float(y) for y in x[1:-1].split(\",\")]))\n",
    "Arrestes_in_2018[\"distance_Bradbury\"]"
   ]
  },
  {
   "cell_type": "code",
   "execution_count": null,
   "metadata": {},
   "outputs": [],
   "source": []
  }
 ],
 "metadata": {
  "kernelspec": {
   "display_name": "Python 3",
   "language": "python",
   "name": "python3"
  },
  "language_info": {
   "codemirror_mode": {
    "name": "ipython",
    "version": 3
   },
   "file_extension": ".py",
   "mimetype": "text/x-python",
   "name": "python",
   "nbconvert_exporter": "python",
   "pygments_lexer": "ipython3",
   "version": "3.7.4"
  }
 },
 "nbformat": 4,
 "nbformat_minor": 2
}
